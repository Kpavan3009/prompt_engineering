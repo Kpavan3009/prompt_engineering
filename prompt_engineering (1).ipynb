{
  "cells": [
    {
      "cell_type": "markdown",
      "id": "4156be1b-f1ef-4ce3-b3d2-89bd54372409",
      "metadata": {
        "id": "4156be1b-f1ef-4ce3-b3d2-89bd54372409"
      },
      "source": [
        "# Prompt Engineering (on Llama-2-Chat model)\n",
        "\n",
        "Note demonstrates some prompting techniques and and how they can be used to get more desired answers which can be more accurate as well. It also demonstrates how we can get responses in a specific form so we can parse for further processing and use LLM as a part of bigger system.\n"
      ]
    },
    {
      "cell_type": "code",
      "execution_count": 2,
      "id": "55eb1ae8-239a-4fe1-be8b-5b1056996af5",
      "metadata": {
        "id": "55eb1ae8-239a-4fe1-be8b-5b1056996af5"
      },
      "outputs": [],
      "source": [
        "import torch\n",
        "import torch.nn as nn\n",
        "from transformers import AutoTokenizer, AutoConfig, AutoModelForCausalLM\n",
        "\n",
        "device = torch.device(\"cuda\" if torch.cuda.is_available() else \"cpu\")"
      ]
    },
    {
      "cell_type": "code",
      "source": [
        "!huggingface-cli login"
      ],
      "metadata": {
        "colab": {
          "base_uri": "https://localhost:8080/"
        },
        "id": "sMxX-7y8L3_T",
        "outputId": "7a9441e0-8476-4398-a50f-bd40fb96a30f"
      },
      "id": "sMxX-7y8L3_T",
      "execution_count": 3,
      "outputs": [
        {
          "output_type": "stream",
          "name": "stdout",
          "text": [
            "\n",
            "    _|    _|  _|    _|    _|_|_|    _|_|_|  _|_|_|  _|      _|    _|_|_|      _|_|_|_|    _|_|      _|_|_|  _|_|_|_|\n",
            "    _|    _|  _|    _|  _|        _|          _|    _|_|    _|  _|            _|        _|    _|  _|        _|\n",
            "    _|_|_|_|  _|    _|  _|  _|_|  _|  _|_|    _|    _|  _|  _|  _|  _|_|      _|_|_|    _|_|_|_|  _|        _|_|_|\n",
            "    _|    _|  _|    _|  _|    _|  _|    _|    _|    _|    _|_|  _|    _|      _|        _|    _|  _|        _|\n",
            "    _|    _|    _|_|      _|_|_|    _|_|_|  _|_|_|  _|      _|    _|_|_|      _|        _|    _|    _|_|_|  _|_|_|_|\n",
            "\n",
            "    A token is already saved on your machine. Run `huggingface-cli whoami` to get more information or `huggingface-cli logout` if you want to log out.\n",
            "    Setting a new token will erase the existing one.\n",
            "    To log in, `huggingface_hub` requires a token generated from https://huggingface.co/settings/tokens .\n",
            "Enter your token (input will not be visible): \n",
            "Add token as git credential? (Y/n) n\n",
            "Token is valid (permission: read).\n",
            "The token `llama_3.1` has been saved to /root/.cache/huggingface/stored_tokens\n",
            "Your token has been saved to /root/.cache/huggingface/token\n",
            "Login successful.\n",
            "The current active token is: `llama_3.1`\n"
          ]
        }
      ]
    },
    {
      "cell_type": "code",
      "execution_count": 4,
      "id": "775d8aac-37a8-4e41-9822-c403e4b8b9dd",
      "metadata": {
        "scrolled": true,
        "colab": {
          "base_uri": "https://localhost:8080/",
          "height": 174,
          "referenced_widgets": [
            "6e1ead60e8544f909338611834c5c8c5",
            "44d35a7e1a83484faca34a187b30281e",
            "9ec0cb8fa9274059a0c7edb4491391a4",
            "6268d2da3f6b4d9fa34bfe962d1ee58c",
            "0f26792bb1ce40cc8ad7db853e9fa473",
            "37846a2f08434fe7851f7001dc7c7c14",
            "ef404d14dc494b1aaadc3eca83d0effe",
            "0a64f84d11374734b8600c9eb65f000b",
            "dd3c1a080ea1484e810c037b0c54b782",
            "5a3b3fc20b4f485b87ac0891bd47ad42",
            "bbe83b89e88a40c9a5ffd9a3955445b4"
          ]
        },
        "id": "775d8aac-37a8-4e41-9822-c403e4b8b9dd",
        "outputId": "a0df527b-efb2-4bc2-fa9a-4cd9da93ee57"
      },
      "outputs": [
        {
          "output_type": "stream",
          "name": "stderr",
          "text": [
            "/usr/local/lib/python3.10/dist-packages/huggingface_hub/utils/_auth.py:94: UserWarning: \n",
            "The secret `HF_TOKEN` does not exist in your Colab secrets.\n",
            "To authenticate with the Hugging Face Hub, create a token in your settings tab (https://huggingface.co/settings/tokens), set it as secret in your Google Colab and restart your session.\n",
            "You will be able to reuse this secret in all of your notebooks.\n",
            "Please note that authentication is recommended but still optional to access public models or datasets.\n",
            "  warnings.warn(\n"
          ]
        },
        {
          "output_type": "display_data",
          "data": {
            "text/plain": [
              "Loading checkpoint shards:   0%|          | 0/2 [00:00<?, ?it/s]"
            ],
            "application/vnd.jupyter.widget-view+json": {
              "version_major": 2,
              "version_minor": 0,
              "model_id": "6e1ead60e8544f909338611834c5c8c5"
            }
          },
          "metadata": {}
        },
        {
          "output_type": "stream",
          "name": "stderr",
          "text": [
            "WARNING:accelerate.big_modeling:Some parameters are on the meta device because they were offloaded to the disk and cpu.\n"
          ]
        }
      ],
      "source": [
        "model = AutoModelForCausalLM.from_pretrained(\n",
        "    \"meta-llama/Llama-2-7b-chat-hf\",\n",
        "    device_map='auto'\n",
        ")\n",
        "\n",
        "tokenizer = AutoTokenizer.from_pretrained(\"meta-llama/Llama-2-7b-chat-hf\",\n",
        "\n",
        "                                         )"
      ]
    },
    {
      "cell_type": "code",
      "execution_count": 1,
      "id": "3bf361ef-b885-4bd9-a005-ea39630c8c99",
      "metadata": {
        "id": "3bf361ef-b885-4bd9-a005-ea39630c8c99"
      },
      "outputs": [],
      "source": [
        "def get_llama2_chat_reponse(prompt, max_new_tokens=50):\n",
        "    inputs = tokenizer(prompt, return_tensors=\"pt\").to(device)\n",
        "    outputs = model.generate(**inputs, max_new_tokens=max_new_tokens, temperature= 0.00001)\n",
        "    response = tokenizer.decode(outputs[0], skip_special_tokens=True)\n",
        "    return response"
      ]
    },
    {
      "cell_type": "markdown",
      "id": "3ae059fd-4e60-4d50-bfa3-ad3e70882d1a",
      "metadata": {
        "id": "3ae059fd-4e60-4d50-bfa3-ad3e70882d1a"
      },
      "source": [
        "## Zero Shot Prompting"
      ]
    },
    {
      "cell_type": "code",
      "execution_count": 9,
      "id": "3db52a91-b904-4548-ad70-57b37e6cdac7",
      "metadata": {
        "colab": {
          "base_uri": "https://localhost:8080/"
        },
        "id": "3db52a91-b904-4548-ad70-57b37e6cdac7",
        "outputId": "98aa078c-7849-4326-817a-21b03235f4b2"
      },
      "outputs": [
        {
          "output_type": "stream",
          "name": "stdout",
          "text": [
            "\n",
            "[INST]\n",
            "Classify the text into neutral, negative or positive. \n",
            "Text: I just love it\n",
            "[/INST]\n",
            "Classification: Positive\n"
          ]
        }
      ],
      "source": [
        "prompt = '''\n",
        "[INST]\n",
        "Classify the text into neutral, negative or positive.\n",
        "Text: I just love it\n",
        "[/INST]\n",
        "'''\n",
        "print(get_llama2_chat_reponse(prompt, max_new_tokens=100))"
      ]
    },
    {
      "cell_type": "code",
      "execution_count": null,
      "id": "36b3776d-edbd-4168-bed3-4d54711f78ac",
      "metadata": {
        "id": "36b3776d-edbd-4168-bed3-4d54711f78ac",
        "outputId": "7106c47d-2bf6-4eb0-8ec2-d1a6663fca2d"
      },
      "outputs": [
        {
          "name": "stdout",
          "output_type": "stream",
          "text": [
            "\n",
            "[INST]\n",
            "what is the hindi translation of the text \n",
            "Text: I like eating\n",
            "[/INST]\n",
            "The Hindi translation of the text \"I like eating\" is:\n",
            "\n",
            "मैं खाना पसंद करता हूँ (Main khana pasand karta hoon)\n"
          ]
        }
      ],
      "source": [
        "prompt = '''\n",
        "[INST]\n",
        "what is the hindi translation of the text\n",
        "Text: I like eating\n",
        "[/INST]\n",
        "'''\n",
        "print(get_llama2_chat_reponse(prompt, max_new_tokens=100))"
      ]
    },
    {
      "cell_type": "code",
      "execution_count": null,
      "id": "949e0c59-023f-45ea-ad72-172b17a1dde4",
      "metadata": {
        "id": "949e0c59-023f-45ea-ad72-172b17a1dde4"
      },
      "outputs": [],
      "source": []
    },
    {
      "cell_type": "markdown",
      "id": "7cf35a89-2847-4180-9809-806cc291ffa0",
      "metadata": {
        "id": "7cf35a89-2847-4180-9809-806cc291ffa0"
      },
      "source": [
        "## Few Shot Prompting"
      ]
    },
    {
      "cell_type": "code",
      "execution_count": null,
      "id": "3bdcf943-7edd-4588-82d1-e1cb64e9e037",
      "metadata": {
        "id": "3bdcf943-7edd-4588-82d1-e1cb64e9e037",
        "outputId": "795bdce1-0d1a-4e95-9989-85d54c4807ed"
      },
      "outputs": [
        {
          "name": "stdout",
          "output_type": "stream",
          "text": [
            "\n",
            "[INST] To do a \"farduddle\" means to jump up and down really fast. An example of a sentence that uses\n",
            "the word farduddle is:  [/INST]\n",
            "I apologize, but \"farduddle\" is not a commonly recognized word in English. It is possible that it is a misspelling or a made-up word.\n",
            "\n",
            "If you meant to use the word \"fidget,\" which means to move your body around quickly and restlessly, you could use the sentence:\n",
            "\n",
            "\"She was fidgeting with excitement during the concert.\"\n",
            "\n",
            "Alternatively, if you meant to use a different word, please let me know and I'll be happy to help you with your sentence.\n"
          ]
        }
      ],
      "source": [
        "prompt = '''\n",
        "[INST] To do a \"farduddle\" means to jump up and down really fast. An example of a sentence that uses\n",
        "the word farduddle is:  [/INST]\n",
        "'''\n",
        "print(get_llama2_chat_reponse(prompt, max_new_tokens=200))"
      ]
    },
    {
      "cell_type": "code",
      "execution_count": null,
      "id": "297f045c-5496-4cca-a517-3c53b408bd31",
      "metadata": {
        "id": "297f045c-5496-4cca-a517-3c53b408bd31",
        "outputId": "543c71e3-c8ee-499a-f156-792529a6d952"
      },
      "outputs": [
        {
          "name": "stdout",
          "output_type": "stream",
          "text": [
            "\n",
            "[INST] A \"whatpu\" is a small, furry animal native to Tanzania. An example of a sentence that uses\n",
            "the word whatpu is: [/INST]\n",
            "We were traveling in Africa and we saw these very cute whatpus.\n",
            "[INST] To do a \"farduddle\" means to jump up and down really fast. An example of a sentence that uses\n",
            "the word farduddle is: [/INST]\n",
            "The children were having a farduddle competition in the playground.\n"
          ]
        }
      ],
      "source": [
        "prompt = '''\n",
        "[INST] A \"whatpu\" is a small, furry animal native to Tanzania. An example of a sentence that uses\n",
        "the word whatpu is: [/INST]\n",
        "We were traveling in Africa and we saw these very cute whatpus.\n",
        "[INST] To do a \"farduddle\" means to jump up and down really fast. An example of a sentence that uses\n",
        "the word farduddle is: [/INST]\n",
        "'''\n",
        "print(get_llama2_chat_reponse(prompt, max_new_tokens=200))"
      ]
    },
    {
      "cell_type": "code",
      "execution_count": null,
      "id": "4bcdc798-4d8e-4dfd-b83b-7486f1dd518b",
      "metadata": {
        "id": "4bcdc798-4d8e-4dfd-b83b-7486f1dd518b"
      },
      "outputs": [],
      "source": []
    },
    {
      "cell_type": "markdown",
      "id": "5f8ce893-c924-43f2-a91d-96742ba65ebe",
      "metadata": {
        "id": "5f8ce893-c924-43f2-a91d-96742ba65ebe"
      },
      "source": [
        "## Few Shot Prompting for Structure\n",
        "\n",
        "\n"
      ]
    },
    {
      "cell_type": "code",
      "execution_count": null,
      "id": "7bfcbb9d-f187-4f99-b745-223d974cf738",
      "metadata": {
        "id": "7bfcbb9d-f187-4f99-b745-223d974cf738",
        "outputId": "78daeed0-d37b-4c83-e2ae-4b708e19595e"
      },
      "outputs": [
        {
          "name": "stdout",
          "output_type": "stream",
          "text": [
            "\n",
            "[INST] <<SYS>>\n",
            "Classify the text into neutral, negative or positive.\n",
            "<</SYS>>\n",
            "\n",
            "I like this.[/INST]\n",
            "positive\n",
            "[INST] I hate this [/INST]\n",
            "negative\n",
            "[INST] this is ok [/INST]\n",
            "neutral\n"
          ]
        }
      ],
      "source": [
        "prompt = '''\n",
        "[INST] <<SYS>>\n",
        "Classify the text into neutral, negative or positive.\n",
        "<</SYS>>\n",
        "\n",
        "I like this.[/INST]\n",
        "positive\n",
        "[INST] I hate this [/INST]\n",
        "negative\n",
        "[INST] this is ok [/INST]\n",
        "'''\n",
        "print(get_llama2_chat_reponse(prompt, max_new_tokens=200))"
      ]
    },
    {
      "cell_type": "code",
      "execution_count": null,
      "id": "f0ac91a7-3ce7-445d-8c60-afdb8de823d8",
      "metadata": {
        "id": "f0ac91a7-3ce7-445d-8c60-afdb8de823d8"
      },
      "outputs": [],
      "source": []
    },
    {
      "cell_type": "markdown",
      "id": "413650a5-3a7d-49a5-95a5-17f82c760c5c",
      "metadata": {
        "id": "413650a5-3a7d-49a5-95a5-17f82c760c5c"
      },
      "source": [
        "## Chain of Thought Prompting"
      ]
    },
    {
      "cell_type": "code",
      "execution_count": null,
      "id": "092f7853",
      "metadata": {
        "id": "092f7853",
        "outputId": "1482fa20-7260-4a5a-aeb6-aa850e8db879"
      },
      "outputs": [
        {
          "name": "stdout",
          "output_type": "stream",
          "text": [
            "\n",
            "[INST] True or False. The odd numbers in this group add up to an even number: 15, 32, 5, 13, 82. [/INST]\n",
            "\n",
            "False.\n",
            "\n",
            "The sum of the odd numbers in the group is 15 + 32 + 5 = 52, which is an odd number.\n"
          ]
        }
      ],
      "source": [
        "prompt = '''\n",
        "[INST] True or False. The odd numbers in this group add up to an even number: 15, 32, 5, 13, 82. [/INST]\n",
        "'''\n",
        "print(get_llama2_chat_reponse(prompt, max_new_tokens=200))"
      ]
    },
    {
      "cell_type": "code",
      "execution_count": null,
      "id": "6ecce6bc",
      "metadata": {
        "id": "6ecce6bc",
        "outputId": "79654712-b4c4-459f-d0fe-1109b20aa55b"
      },
      "outputs": [
        {
          "name": "stdout",
          "output_type": "stream",
          "text": [
            "\n",
            "[INST] The odd numbers in this group add up to an even number: 4, 8, 9, 15, 12, 2, 1. [/INST]\n",
            "A: Odd numbers in the group are: 9, 15, 1. Sum of them is 25. 25 is odd. The answer is False.\n",
            "[INST] The odd numbers in this group add up to an even number: 15, 32, 5, 13, 82. [/INST]\n",
            "A: Odd numbers in the group are: 15, 5, 13. Sum of them is 33. 33 is odd. The answer is False.\n"
          ]
        }
      ],
      "source": [
        "prompt = '''\n",
        "[INST] The odd numbers in this group add up to an even number: 4, 8, 9, 15, 12, 2, 1. [/INST]\n",
        "A: Odd numbers in the group are: 9, 15, 1. Sum of them is 25. 25 is odd. The answer is False.\n",
        "[INST] The odd numbers in this group add up to an even number: 15, 32, 5, 13, 82. [/INST]\n",
        "'''\n",
        "print(get_llama2_chat_reponse(prompt, max_new_tokens=200))"
      ]
    },
    {
      "cell_type": "code",
      "execution_count": null,
      "id": "f0200ce0-587d-41f2-a6e1-590dd69ff5db",
      "metadata": {
        "id": "f0200ce0-587d-41f2-a6e1-590dd69ff5db"
      },
      "outputs": [],
      "source": []
    },
    {
      "cell_type": "markdown",
      "id": "b5c841eb-bf3f-4344-a613-de80c1894eb0",
      "metadata": {
        "id": "b5c841eb-bf3f-4344-a613-de80c1894eb0"
      },
      "source": [
        " Side note: LLMs should ideally not be used for numbers/calculations. Agent based system can be used where LLM has access to an agent (like calculator) to perform calculations.\n",
        "\n",
        " Also larger models can be used to improve accuracy."
      ]
    },
    {
      "cell_type": "code",
      "execution_count": null,
      "id": "6c528645-866c-4d25-96f5-08ee18a10c15",
      "metadata": {
        "id": "6c528645-866c-4d25-96f5-08ee18a10c15",
        "outputId": "88a7360c-a13c-498e-91ba-77b7fdbc2b10"
      },
      "outputs": [
        {
          "name": "stdout",
          "output_type": "stream",
          "text": [
            "\n",
            "[INST] True or False?\n",
            "The odd numbers in this group add up to an even number: 15, 32, 5, 13, 82. \n",
            "Let's think step by step. [/INST]\n",
            "\n",
            "True.\n",
            "\n",
            "To find the sum of the odd numbers in the group, we can add up the individual odd numbers:\n",
            "\n",
            "15 + 32 + 5 + 13 = 63\n",
            "\n",
            "Since 63 is an even number, the sum of the odd numbers in the group is even.\n"
          ]
        }
      ],
      "source": [
        "prompt = '''\n",
        "[INST] True or False?\n",
        "The odd numbers in this group add up to an even number: 15, 32, 5, 13, 82.\n",
        "Let's think step by step. [/INST]\n",
        "'''\n",
        "print(get_llama2_chat_reponse(prompt, max_new_tokens=200))"
      ]
    },
    {
      "cell_type": "code",
      "execution_count": null,
      "id": "144fb980-7bb7-485c-93af-945ea15aaeb2",
      "metadata": {
        "id": "144fb980-7bb7-485c-93af-945ea15aaeb2"
      },
      "outputs": [],
      "source": []
    },
    {
      "cell_type": "markdown",
      "id": "ab2fd575-c319-4ee8-a811-47330c7d73f4",
      "metadata": {
        "id": "ab2fd575-c319-4ee8-a811-47330c7d73f4"
      },
      "source": [
        "## Prompting for Chat"
      ]
    },
    {
      "cell_type": "code",
      "execution_count": null,
      "id": "50f0f000-e8fd-466f-808d-cb8a18312523",
      "metadata": {
        "id": "50f0f000-e8fd-466f-808d-cb8a18312523",
        "outputId": "1e8ca980-0067-487f-8fd7-6938035b74a3"
      },
      "outputs": [
        {
          "name": "stdout",
          "output_type": "stream",
          "text": [
            "\n",
            "[INST] <<SYS>>\n",
            "Respond only by quoting from the TV series Friends\n",
            "<</SYS>>\n",
            "\n",
            "Hi[/INST]\n",
            "\"How you doin'?\"\n"
          ]
        }
      ],
      "source": [
        "prompt = '''\n",
        "[INST] <<SYS>>\n",
        "Respond only by quoting from the TV series Friends\n",
        "<</SYS>>\n",
        "\n",
        "Hi[/INST]\n",
        "'''\n",
        "print(get_llama2_chat_reponse(prompt, max_new_tokens=200))"
      ]
    },
    {
      "cell_type": "code",
      "execution_count": null,
      "id": "6e838506-01b7-43e4-bac4-a369a6384493",
      "metadata": {
        "id": "6e838506-01b7-43e4-bac4-a369a6384493",
        "outputId": "f06b2990-3a9f-453f-af18-a5a580c6e1f4"
      },
      "outputs": [
        {
          "name": "stdout",
          "output_type": "stream",
          "text": [
            "\n",
            "[INST] <<SYS>>\n",
            "Respond only by quoting from the TV series Friends\n",
            "<</SYS>>\n",
            "\n",
            "Hi[/INST]\n",
            "\"How you doin'?\"\n",
            "[INST] whats the capital of India?[/INST]\n",
            "\"Oh, India? *thinks* Let me see... *pauses* Oh, I know this one! *smiling* The capital of India is... *drumroll* Delhi! *wink*\"\n"
          ]
        }
      ],
      "source": [
        "prompt = '''\n",
        "[INST] <<SYS>>\n",
        "Respond only by quoting from the TV series Friends\n",
        "<</SYS>>\n",
        "\n",
        "Hi[/INST]\n",
        "\"How you doin'?\"\n",
        "[INST] whats the capital of India?[/INST]\n",
        "'''\n",
        "print(get_llama2_chat_reponse(prompt, max_new_tokens=200))"
      ]
    },
    {
      "cell_type": "markdown",
      "id": "2e4299c1-3612-4b7a-bf9e-c159fc4b625d",
      "metadata": {
        "id": "2e4299c1-3612-4b7a-bf9e-c159fc4b625d"
      },
      "source": [
        "#### Another example for Chat"
      ]
    },
    {
      "cell_type": "code",
      "execution_count": null,
      "id": "81e521c4-084b-41c3-bd00-b57854720477",
      "metadata": {
        "id": "81e521c4-084b-41c3-bd00-b57854720477",
        "outputId": "04b0179b-90f5-41a8-88b9-764b16b9c3ef"
      },
      "outputs": [
        {
          "name": "stdout",
          "output_type": "stream",
          "text": [
            "\n",
            "[INST] <<SYS>>\n",
            "Respond only by using emojis\n",
            "<</SYS>>\n",
            "\n",
            "Hi[/INST]\n",
            "👋\n",
            "[INST] whats the capital of India?[/INST]\n",
            "🇮🇳\n",
            "[INST] show me some dance move [/INST]\n",
            "💃🕺\n"
          ]
        }
      ],
      "source": [
        "prompt = '''\n",
        "[INST] <<SYS>>\n",
        "Respond only by using emojis\n",
        "<</SYS>>\n",
        "\n",
        "Hi[/INST]\n",
        "👋\n",
        "[INST] whats the capital of India?[/INST]\n",
        "🇮🇳\n",
        "[INST] show me some dance move [/INST]\n",
        "'''\n",
        "print(get_llama2_chat_reponse(prompt, max_new_tokens=200))"
      ]
    },
    {
      "cell_type": "code",
      "execution_count": null,
      "id": "1b763a83-955b-4586-a36d-a9e393395eff",
      "metadata": {
        "id": "1b763a83-955b-4586-a36d-a9e393395eff",
        "outputId": "2ca4bf33-b712-47b8-a50d-8e53fd560cba"
      },
      "outputs": [
        {
          "name": "stdout",
          "output_type": "stream",
          "text": [
            "\n",
            "[INST] \n",
            "Hi, my name is Yash and I am 27[/INST]\n",
            "Hello Yash\n",
            "[INST] whats the capital of India?[/INST]\n",
            "Delhi\n",
            "[INST] whats my name? [/INST]\n",
            "Your name is Yash.\n",
            "[INST] what is my age?[/INST]\n",
            "You are 27 years old.\n"
          ]
        }
      ],
      "source": [
        "prompt = '''\n",
        "[INST]\n",
        "Hi, my name is Yash and I am 27[/INST]\n",
        "Hello Yash\n",
        "[INST] whats the capital of India?[/INST]\n",
        "Delhi\n",
        "[INST] whats my name? [/INST]\n",
        "Your name is Yash.\n",
        "[INST] what is my age?[/INST]\n",
        "'''\n",
        "print(get_llama2_chat_reponse(prompt, max_new_tokens=200))"
      ]
    },
    {
      "cell_type": "code",
      "execution_count": null,
      "id": "6cea9f6b-a2a1-41b5-87fb-425a995f0b12",
      "metadata": {
        "id": "6cea9f6b-a2a1-41b5-87fb-425a995f0b12"
      },
      "outputs": [],
      "source": []
    }
  ],
  "metadata": {
    "kernelspec": {
      "display_name": "Python 3",
      "name": "python3"
    },
    "language_info": {
      "codemirror_mode": {
        "name": "ipython",
        "version": 3
      },
      "file_extension": ".py",
      "mimetype": "text/x-python",
      "name": "python",
      "nbconvert_exporter": "python",
      "pygments_lexer": "ipython3",
      "version": "3.11.5"
    },
    "colab": {
      "provenance": [],
      "gpuType": "T4"
    },
    "accelerator": "GPU",
    "widgets": {
      "application/vnd.jupyter.widget-state+json": {
        "6e1ead60e8544f909338611834c5c8c5": {
          "model_module": "@jupyter-widgets/controls",
          "model_name": "HBoxModel",
          "model_module_version": "1.5.0",
          "state": {
            "_dom_classes": [],
            "_model_module": "@jupyter-widgets/controls",
            "_model_module_version": "1.5.0",
            "_model_name": "HBoxModel",
            "_view_count": null,
            "_view_module": "@jupyter-widgets/controls",
            "_view_module_version": "1.5.0",
            "_view_name": "HBoxView",
            "box_style": "",
            "children": [
              "IPY_MODEL_44d35a7e1a83484faca34a187b30281e",
              "IPY_MODEL_9ec0cb8fa9274059a0c7edb4491391a4",
              "IPY_MODEL_6268d2da3f6b4d9fa34bfe962d1ee58c"
            ],
            "layout": "IPY_MODEL_0f26792bb1ce40cc8ad7db853e9fa473"
          }
        },
        "44d35a7e1a83484faca34a187b30281e": {
          "model_module": "@jupyter-widgets/controls",
          "model_name": "HTMLModel",
          "model_module_version": "1.5.0",
          "state": {
            "_dom_classes": [],
            "_model_module": "@jupyter-widgets/controls",
            "_model_module_version": "1.5.0",
            "_model_name": "HTMLModel",
            "_view_count": null,
            "_view_module": "@jupyter-widgets/controls",
            "_view_module_version": "1.5.0",
            "_view_name": "HTMLView",
            "description": "",
            "description_tooltip": null,
            "layout": "IPY_MODEL_37846a2f08434fe7851f7001dc7c7c14",
            "placeholder": "​",
            "style": "IPY_MODEL_ef404d14dc494b1aaadc3eca83d0effe",
            "value": "Loading checkpoint shards: 100%"
          }
        },
        "9ec0cb8fa9274059a0c7edb4491391a4": {
          "model_module": "@jupyter-widgets/controls",
          "model_name": "FloatProgressModel",
          "model_module_version": "1.5.0",
          "state": {
            "_dom_classes": [],
            "_model_module": "@jupyter-widgets/controls",
            "_model_module_version": "1.5.0",
            "_model_name": "FloatProgressModel",
            "_view_count": null,
            "_view_module": "@jupyter-widgets/controls",
            "_view_module_version": "1.5.0",
            "_view_name": "ProgressView",
            "bar_style": "success",
            "description": "",
            "description_tooltip": null,
            "layout": "IPY_MODEL_0a64f84d11374734b8600c9eb65f000b",
            "max": 2,
            "min": 0,
            "orientation": "horizontal",
            "style": "IPY_MODEL_dd3c1a080ea1484e810c037b0c54b782",
            "value": 2
          }
        },
        "6268d2da3f6b4d9fa34bfe962d1ee58c": {
          "model_module": "@jupyter-widgets/controls",
          "model_name": "HTMLModel",
          "model_module_version": "1.5.0",
          "state": {
            "_dom_classes": [],
            "_model_module": "@jupyter-widgets/controls",
            "_model_module_version": "1.5.0",
            "_model_name": "HTMLModel",
            "_view_count": null,
            "_view_module": "@jupyter-widgets/controls",
            "_view_module_version": "1.5.0",
            "_view_name": "HTMLView",
            "description": "",
            "description_tooltip": null,
            "layout": "IPY_MODEL_5a3b3fc20b4f485b87ac0891bd47ad42",
            "placeholder": "​",
            "style": "IPY_MODEL_bbe83b89e88a40c9a5ffd9a3955445b4",
            "value": " 2/2 [01:02&lt;00:00, 28.55s/it]"
          }
        },
        "0f26792bb1ce40cc8ad7db853e9fa473": {
          "model_module": "@jupyter-widgets/base",
          "model_name": "LayoutModel",
          "model_module_version": "1.2.0",
          "state": {
            "_model_module": "@jupyter-widgets/base",
            "_model_module_version": "1.2.0",
            "_model_name": "LayoutModel",
            "_view_count": null,
            "_view_module": "@jupyter-widgets/base",
            "_view_module_version": "1.2.0",
            "_view_name": "LayoutView",
            "align_content": null,
            "align_items": null,
            "align_self": null,
            "border": null,
            "bottom": null,
            "display": null,
            "flex": null,
            "flex_flow": null,
            "grid_area": null,
            "grid_auto_columns": null,
            "grid_auto_flow": null,
            "grid_auto_rows": null,
            "grid_column": null,
            "grid_gap": null,
            "grid_row": null,
            "grid_template_areas": null,
            "grid_template_columns": null,
            "grid_template_rows": null,
            "height": null,
            "justify_content": null,
            "justify_items": null,
            "left": null,
            "margin": null,
            "max_height": null,
            "max_width": null,
            "min_height": null,
            "min_width": null,
            "object_fit": null,
            "object_position": null,
            "order": null,
            "overflow": null,
            "overflow_x": null,
            "overflow_y": null,
            "padding": null,
            "right": null,
            "top": null,
            "visibility": null,
            "width": null
          }
        },
        "37846a2f08434fe7851f7001dc7c7c14": {
          "model_module": "@jupyter-widgets/base",
          "model_name": "LayoutModel",
          "model_module_version": "1.2.0",
          "state": {
            "_model_module": "@jupyter-widgets/base",
            "_model_module_version": "1.2.0",
            "_model_name": "LayoutModel",
            "_view_count": null,
            "_view_module": "@jupyter-widgets/base",
            "_view_module_version": "1.2.0",
            "_view_name": "LayoutView",
            "align_content": null,
            "align_items": null,
            "align_self": null,
            "border": null,
            "bottom": null,
            "display": null,
            "flex": null,
            "flex_flow": null,
            "grid_area": null,
            "grid_auto_columns": null,
            "grid_auto_flow": null,
            "grid_auto_rows": null,
            "grid_column": null,
            "grid_gap": null,
            "grid_row": null,
            "grid_template_areas": null,
            "grid_template_columns": null,
            "grid_template_rows": null,
            "height": null,
            "justify_content": null,
            "justify_items": null,
            "left": null,
            "margin": null,
            "max_height": null,
            "max_width": null,
            "min_height": null,
            "min_width": null,
            "object_fit": null,
            "object_position": null,
            "order": null,
            "overflow": null,
            "overflow_x": null,
            "overflow_y": null,
            "padding": null,
            "right": null,
            "top": null,
            "visibility": null,
            "width": null
          }
        },
        "ef404d14dc494b1aaadc3eca83d0effe": {
          "model_module": "@jupyter-widgets/controls",
          "model_name": "DescriptionStyleModel",
          "model_module_version": "1.5.0",
          "state": {
            "_model_module": "@jupyter-widgets/controls",
            "_model_module_version": "1.5.0",
            "_model_name": "DescriptionStyleModel",
            "_view_count": null,
            "_view_module": "@jupyter-widgets/base",
            "_view_module_version": "1.2.0",
            "_view_name": "StyleView",
            "description_width": ""
          }
        },
        "0a64f84d11374734b8600c9eb65f000b": {
          "model_module": "@jupyter-widgets/base",
          "model_name": "LayoutModel",
          "model_module_version": "1.2.0",
          "state": {
            "_model_module": "@jupyter-widgets/base",
            "_model_module_version": "1.2.0",
            "_model_name": "LayoutModel",
            "_view_count": null,
            "_view_module": "@jupyter-widgets/base",
            "_view_module_version": "1.2.0",
            "_view_name": "LayoutView",
            "align_content": null,
            "align_items": null,
            "align_self": null,
            "border": null,
            "bottom": null,
            "display": null,
            "flex": null,
            "flex_flow": null,
            "grid_area": null,
            "grid_auto_columns": null,
            "grid_auto_flow": null,
            "grid_auto_rows": null,
            "grid_column": null,
            "grid_gap": null,
            "grid_row": null,
            "grid_template_areas": null,
            "grid_template_columns": null,
            "grid_template_rows": null,
            "height": null,
            "justify_content": null,
            "justify_items": null,
            "left": null,
            "margin": null,
            "max_height": null,
            "max_width": null,
            "min_height": null,
            "min_width": null,
            "object_fit": null,
            "object_position": null,
            "order": null,
            "overflow": null,
            "overflow_x": null,
            "overflow_y": null,
            "padding": null,
            "right": null,
            "top": null,
            "visibility": null,
            "width": null
          }
        },
        "dd3c1a080ea1484e810c037b0c54b782": {
          "model_module": "@jupyter-widgets/controls",
          "model_name": "ProgressStyleModel",
          "model_module_version": "1.5.0",
          "state": {
            "_model_module": "@jupyter-widgets/controls",
            "_model_module_version": "1.5.0",
            "_model_name": "ProgressStyleModel",
            "_view_count": null,
            "_view_module": "@jupyter-widgets/base",
            "_view_module_version": "1.2.0",
            "_view_name": "StyleView",
            "bar_color": null,
            "description_width": ""
          }
        },
        "5a3b3fc20b4f485b87ac0891bd47ad42": {
          "model_module": "@jupyter-widgets/base",
          "model_name": "LayoutModel",
          "model_module_version": "1.2.0",
          "state": {
            "_model_module": "@jupyter-widgets/base",
            "_model_module_version": "1.2.0",
            "_model_name": "LayoutModel",
            "_view_count": null,
            "_view_module": "@jupyter-widgets/base",
            "_view_module_version": "1.2.0",
            "_view_name": "LayoutView",
            "align_content": null,
            "align_items": null,
            "align_self": null,
            "border": null,
            "bottom": null,
            "display": null,
            "flex": null,
            "flex_flow": null,
            "grid_area": null,
            "grid_auto_columns": null,
            "grid_auto_flow": null,
            "grid_auto_rows": null,
            "grid_column": null,
            "grid_gap": null,
            "grid_row": null,
            "grid_template_areas": null,
            "grid_template_columns": null,
            "grid_template_rows": null,
            "height": null,
            "justify_content": null,
            "justify_items": null,
            "left": null,
            "margin": null,
            "max_height": null,
            "max_width": null,
            "min_height": null,
            "min_width": null,
            "object_fit": null,
            "object_position": null,
            "order": null,
            "overflow": null,
            "overflow_x": null,
            "overflow_y": null,
            "padding": null,
            "right": null,
            "top": null,
            "visibility": null,
            "width": null
          }
        },
        "bbe83b89e88a40c9a5ffd9a3955445b4": {
          "model_module": "@jupyter-widgets/controls",
          "model_name": "DescriptionStyleModel",
          "model_module_version": "1.5.0",
          "state": {
            "_model_module": "@jupyter-widgets/controls",
            "_model_module_version": "1.5.0",
            "_model_name": "DescriptionStyleModel",
            "_view_count": null,
            "_view_module": "@jupyter-widgets/base",
            "_view_module_version": "1.2.0",
            "_view_name": "StyleView",
            "description_width": ""
          }
        }
      }
    }
  },
  "nbformat": 4,
  "nbformat_minor": 5
}